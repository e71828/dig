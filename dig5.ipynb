{
  "nbformat": 4,
  "nbformat_minor": 0,
  "metadata": {
    "colab": {
      "name": "dig5.ipynb",
      "provenance": [],
      "collapsed_sections": [],
      "toc_visible": true,
      "authorship_tag": "ABX9TyMXmGtkHhuBlUqyBVtydxeP",
      "include_colab_link": true
    },
    "kernelspec": {
      "name": "python3",
      "display_name": "Python 3"
    },
    "language_info": {
      "name": "python"
    }
  },
  "cells": [
    {
      "cell_type": "markdown",
      "metadata": {
        "id": "view-in-github",
        "colab_type": "text"
      },
      "source": [
        "<a href=\"https://colab.research.google.com/github/e71828/dig/blob/main/dig5.ipynb\" target=\"_parent\"><img src=\"https://colab.research.google.com/assets/colab-badge.svg\" alt=\"Open In Colab\"/></a>"
      ]
    },
    {
      "cell_type": "markdown",
      "source": [
        "# 大作业\n",
        "\n",
        "心脏病的主要三种风险因素:高血压、高胆固醇和吸烟。其他影响关键指标包括糖尿病、肥胖(高BMI)、没有进行足够的体育活动或饮酒过量。检测和预防对心脏病影响最大的因素在医疗保健中非常重要。\n",
        "\n",
        "最初，数据集来自美国疾病控制与预防中心，是行为风险因素监测系统(BRFSS)的主要组成部分，该系统每年进行电话调查，以收集美国居民的健康状况数据。正如CDC所描述的那样:“BRFSS成立于1984年，有15个州，现在收集所有50个州以及哥伦比亚特区和美国3个领地的数据。"
      ],
      "metadata": {
        "id": "NjM7JMqaE003"
      }
    },
    {
      "cell_type": "markdown",
      "source": [
        "**具体要求：**\n",
        "1.\t读取heart_disease_2020数据，输出前5行，观察数据特征。检查数据中是否存在缺失值，利用describe()函数返回数据的统计变量，观察该数据的范围、大小和波动趋势。\n",
        "2.\t分别绘制出患心脏病和不患心脏病的AlcoholDrinking、Race、SkinCancer、PhysicalActivity的柱状图,分析它们分别对心脏病的影响。\n",
        "3.\t分别绘制出患心脏病和不患心脏病的BMI、PhysicalHealth、MentalHealth、SleepTime分布直方图（bins=50）及箱型图，简单分析数据分布情况及其对心脏病的影响。\n",
        "提示：seaborn中的catplot函数。\n",
        "4.\t对数据进行处理，保留连续的数据BMI、PhysicalHealth、MentalHealth、SleepTime，令患有心脏病label=1，不患有心脏病label=0，保留前2000个样本，方便下面进行分析。\n",
        "5.\t利用SVC、Naive_Bayes、DecisionTreeClassifier构建分类器，衡量哪类模型更符合这个问题。提示：对于SVC模型建立和衡量，借鉴以下的demo的例子,X表示数据，y表示Label。\n",
        "```python\n",
        "svc = SVC(kernel='linear')\n",
        "scores_svc = cross_val_score(svc, X, y, cv=5)\n",
        "print(f'Mean: {np.mean(scores_svc)}')\n",
        "print(f'Standard Deviation: {np.std(scores_svc)}')\n",
        "```\n",
        "6.\t相较于上述三类模型，Logistic Regression是否更符合这个问题,给出评判标准。提示：`sklearn.linear_model.LogisticRegression()`\n"
      ],
      "metadata": {
        "id": "oKkc9Q2kFHA9"
      }
    },
    {
      "cell_type": "markdown",
      "source": [
        "## 观察特征"
      ],
      "metadata": {
        "id": "hk1jit1UkFVe"
      }
    },
    {
      "cell_type": "code",
      "execution_count": 70,
      "metadata": {
        "colab": {
          "base_uri": "https://localhost:8080/"
        },
        "id": "mhxFAP51EYr6",
        "outputId": "c3783756-c9e6-4f58-8d99-56304ae1b836"
      },
      "outputs": [
        {
          "output_type": "stream",
          "name": "stdout",
          "text": [
            "Number of Datapoints :  319795\n",
            "Index(['HeartDisease', 'BMI', 'Smoking', 'AlcoholDrinking', 'Stroke',\n",
            "       'PhysicalHealth', 'MentalHealth', 'DiffWalking', 'Sex', 'AgeCategory',\n",
            "       'Race', 'Diabetic', 'PhysicalActivity', 'GenHealth', 'SleepTime',\n",
            "       'Asthma', 'KidneyDisease', 'SkinCancer'],\n",
            "      dtype='object')\n"
          ]
        }
      ],
      "source": [
        "import pandas as pd\n",
        "import numpy as np\n",
        "from matplotlib import pyplot as plt\n",
        "data = pd.read_csv('heart_disease_2020.csv')\n",
        "print(\"Number of Datapoints : \",data.shape[0])\n",
        "print(data.columns)"
      ]
    },
    {
      "cell_type": "code",
      "source": [
        "data.dropna(inplace=True, how='any')  # drop nan values\n",
        "print(data.isnull().sum().sum()==0)  # check again"
      ],
      "metadata": {
        "colab": {
          "base_uri": "https://localhost:8080/"
        },
        "id": "6lfqogXmeJls",
        "outputId": "06486cb1-ed55-4f2a-84fc-87b2250af9ac"
      },
      "execution_count": 71,
      "outputs": [
        {
          "output_type": "stream",
          "name": "stdout",
          "text": [
            "True\n"
          ]
        }
      ]
    },
    {
      "cell_type": "code",
      "source": [
        "data.describe()"
      ],
      "metadata": {
        "colab": {
          "base_uri": "https://localhost:8080/",
          "height": 300
        },
        "id": "wBFGqI8KhqXn",
        "outputId": "9e88bc1f-d6a2-4593-fd1c-ab7366880eb3"
      },
      "execution_count": 72,
      "outputs": [
        {
          "output_type": "execute_result",
          "data": {
            "text/plain": [
              "                 BMI  PhysicalHealth   MentalHealth      SleepTime\n",
              "count  319795.000000    319795.00000  319795.000000  319795.000000\n",
              "mean       28.325399         3.37171       3.898366       7.097075\n",
              "std         6.356100         7.95085       7.955235       1.436007\n",
              "min        12.020000         0.00000       0.000000       1.000000\n",
              "25%        24.030000         0.00000       0.000000       6.000000\n",
              "50%        27.340000         0.00000       0.000000       7.000000\n",
              "75%        31.420000         2.00000       3.000000       8.000000\n",
              "max        94.850000        30.00000      30.000000      24.000000"
            ],
            "text/html": [
              "\n",
              "  <div id=\"df-447e2dce-6949-4f74-a1c9-52f70ccae5e0\">\n",
              "    <div class=\"colab-df-container\">\n",
              "      <div>\n",
              "<style scoped>\n",
              "    .dataframe tbody tr th:only-of-type {\n",
              "        vertical-align: middle;\n",
              "    }\n",
              "\n",
              "    .dataframe tbody tr th {\n",
              "        vertical-align: top;\n",
              "    }\n",
              "\n",
              "    .dataframe thead th {\n",
              "        text-align: right;\n",
              "    }\n",
              "</style>\n",
              "<table border=\"1\" class=\"dataframe\">\n",
              "  <thead>\n",
              "    <tr style=\"text-align: right;\">\n",
              "      <th></th>\n",
              "      <th>BMI</th>\n",
              "      <th>PhysicalHealth</th>\n",
              "      <th>MentalHealth</th>\n",
              "      <th>SleepTime</th>\n",
              "    </tr>\n",
              "  </thead>\n",
              "  <tbody>\n",
              "    <tr>\n",
              "      <th>count</th>\n",
              "      <td>319795.000000</td>\n",
              "      <td>319795.00000</td>\n",
              "      <td>319795.000000</td>\n",
              "      <td>319795.000000</td>\n",
              "    </tr>\n",
              "    <tr>\n",
              "      <th>mean</th>\n",
              "      <td>28.325399</td>\n",
              "      <td>3.37171</td>\n",
              "      <td>3.898366</td>\n",
              "      <td>7.097075</td>\n",
              "    </tr>\n",
              "    <tr>\n",
              "      <th>std</th>\n",
              "      <td>6.356100</td>\n",
              "      <td>7.95085</td>\n",
              "      <td>7.955235</td>\n",
              "      <td>1.436007</td>\n",
              "    </tr>\n",
              "    <tr>\n",
              "      <th>min</th>\n",
              "      <td>12.020000</td>\n",
              "      <td>0.00000</td>\n",
              "      <td>0.000000</td>\n",
              "      <td>1.000000</td>\n",
              "    </tr>\n",
              "    <tr>\n",
              "      <th>25%</th>\n",
              "      <td>24.030000</td>\n",
              "      <td>0.00000</td>\n",
              "      <td>0.000000</td>\n",
              "      <td>6.000000</td>\n",
              "    </tr>\n",
              "    <tr>\n",
              "      <th>50%</th>\n",
              "      <td>27.340000</td>\n",
              "      <td>0.00000</td>\n",
              "      <td>0.000000</td>\n",
              "      <td>7.000000</td>\n",
              "    </tr>\n",
              "    <tr>\n",
              "      <th>75%</th>\n",
              "      <td>31.420000</td>\n",
              "      <td>2.00000</td>\n",
              "      <td>3.000000</td>\n",
              "      <td>8.000000</td>\n",
              "    </tr>\n",
              "    <tr>\n",
              "      <th>max</th>\n",
              "      <td>94.850000</td>\n",
              "      <td>30.00000</td>\n",
              "      <td>30.000000</td>\n",
              "      <td>24.000000</td>\n",
              "    </tr>\n",
              "  </tbody>\n",
              "</table>\n",
              "</div>\n",
              "      <button class=\"colab-df-convert\" onclick=\"convertToInteractive('df-447e2dce-6949-4f74-a1c9-52f70ccae5e0')\"\n",
              "              title=\"Convert this dataframe to an interactive table.\"\n",
              "              style=\"display:none;\">\n",
              "        \n",
              "  <svg xmlns=\"http://www.w3.org/2000/svg\" height=\"24px\"viewBox=\"0 0 24 24\"\n",
              "       width=\"24px\">\n",
              "    <path d=\"M0 0h24v24H0V0z\" fill=\"none\"/>\n",
              "    <path d=\"M18.56 5.44l.94 2.06.94-2.06 2.06-.94-2.06-.94-.94-2.06-.94 2.06-2.06.94zm-11 1L8.5 8.5l.94-2.06 2.06-.94-2.06-.94L8.5 2.5l-.94 2.06-2.06.94zm10 10l.94 2.06.94-2.06 2.06-.94-2.06-.94-.94-2.06-.94 2.06-2.06.94z\"/><path d=\"M17.41 7.96l-1.37-1.37c-.4-.4-.92-.59-1.43-.59-.52 0-1.04.2-1.43.59L10.3 9.45l-7.72 7.72c-.78.78-.78 2.05 0 2.83L4 21.41c.39.39.9.59 1.41.59.51 0 1.02-.2 1.41-.59l7.78-7.78 2.81-2.81c.8-.78.8-2.07 0-2.86zM5.41 20L4 18.59l7.72-7.72 1.47 1.35L5.41 20z\"/>\n",
              "  </svg>\n",
              "      </button>\n",
              "      \n",
              "  <style>\n",
              "    .colab-df-container {\n",
              "      display:flex;\n",
              "      flex-wrap:wrap;\n",
              "      gap: 12px;\n",
              "    }\n",
              "\n",
              "    .colab-df-convert {\n",
              "      background-color: #E8F0FE;\n",
              "      border: none;\n",
              "      border-radius: 50%;\n",
              "      cursor: pointer;\n",
              "      display: none;\n",
              "      fill: #1967D2;\n",
              "      height: 32px;\n",
              "      padding: 0 0 0 0;\n",
              "      width: 32px;\n",
              "    }\n",
              "\n",
              "    .colab-df-convert:hover {\n",
              "      background-color: #E2EBFA;\n",
              "      box-shadow: 0px 1px 2px rgba(60, 64, 67, 0.3), 0px 1px 3px 1px rgba(60, 64, 67, 0.15);\n",
              "      fill: #174EA6;\n",
              "    }\n",
              "\n",
              "    [theme=dark] .colab-df-convert {\n",
              "      background-color: #3B4455;\n",
              "      fill: #D2E3FC;\n",
              "    }\n",
              "\n",
              "    [theme=dark] .colab-df-convert:hover {\n",
              "      background-color: #434B5C;\n",
              "      box-shadow: 0px 1px 3px 1px rgba(0, 0, 0, 0.15);\n",
              "      filter: drop-shadow(0px 1px 2px rgba(0, 0, 0, 0.3));\n",
              "      fill: #FFFFFF;\n",
              "    }\n",
              "  </style>\n",
              "\n",
              "      <script>\n",
              "        const buttonEl =\n",
              "          document.querySelector('#df-447e2dce-6949-4f74-a1c9-52f70ccae5e0 button.colab-df-convert');\n",
              "        buttonEl.style.display =\n",
              "          google.colab.kernel.accessAllowed ? 'block' : 'none';\n",
              "\n",
              "        async function convertToInteractive(key) {\n",
              "          const element = document.querySelector('#df-447e2dce-6949-4f74-a1c9-52f70ccae5e0');\n",
              "          const dataTable =\n",
              "            await google.colab.kernel.invokeFunction('convertToInteractive',\n",
              "                                                     [key], {});\n",
              "          if (!dataTable) return;\n",
              "\n",
              "          const docLinkHtml = 'Like what you see? Visit the ' +\n",
              "            '<a target=\"_blank\" href=https://colab.research.google.com/notebooks/data_table.ipynb>data table notebook</a>'\n",
              "            + ' to learn more about interactive tables.';\n",
              "          element.innerHTML = '';\n",
              "          dataTable['output_type'] = 'display_data';\n",
              "          await google.colab.output.renderOutput(dataTable, element);\n",
              "          const docLink = document.createElement('div');\n",
              "          docLink.innerHTML = docLinkHtml;\n",
              "          element.appendChild(docLink);\n",
              "        }\n",
              "      </script>\n",
              "    </div>\n",
              "  </div>\n",
              "  "
            ]
          },
          "metadata": {},
          "execution_count": 72
        }
      ]
    },
    {
      "cell_type": "markdown",
      "source": [
        "数据存在bug：\n",
        "- Physical Health的50%分位点为0.0， 75%分位点为2.0，不足均值；\n",
        "- Mental Health的50%分位点在0.0，75%分位点在3.0，也比均值小；\n",
        "- 可以说明 Physical Health和 Mental Health 的数据分布不均衡，大部分很普通，小部分极异常。\n",
        "- 而BMI 和 SleepTime 的数据均值和中位数较相等，数据分布较均衡。"
      ],
      "metadata": {
        "id": "b7xnm8EkiThZ"
      }
    },
    {
      "cell_type": "markdown",
      "source": [
        " ## 离散值柱状图"
      ],
      "metadata": {
        "id": "OD140KdnkNI2"
      }
    },
    {
      "cell_type": "code",
      "source": [
        "dd = data.groupby('HeartDisease').agg({'AlcoholDrinking' : lambda x: len(x[x=='Yes']),\n",
        "                                       'Race' : lambda x: len(x[x=='White']),\n",
        "                                       'SkinCancer' : lambda x: len(x[x=='Yes']),\n",
        "                                       'PhysicalActivity' : lambda x: len(x[x=='Yes'])})\n",
        "dd.rename(columns = {'Race' : r'Race=White'}, inplace = True)\n",
        "dd.head()"
      ],
      "metadata": {
        "colab": {
          "base_uri": "https://localhost:8080/",
          "height": 143
        },
        "id": "PSbH5ScCeQgW",
        "outputId": "4d8ddf7f-d750-4511-c010-a75a818f7f97"
      },
      "execution_count": 73,
      "outputs": [
        {
          "output_type": "execute_result",
          "data": {
            "text/plain": [
              "              AlcoholDrinking  Race=White  SkinCancer  PhysicalActivity\n",
              "HeartDisease                                                           \n",
              "No                      20636      222705       24839            230468\n",
              "Yes                      1141       22507        4980             17489"
            ],
            "text/html": [
              "\n",
              "  <div id=\"df-3e887acb-f0ec-4108-9163-fff7152dc7bd\">\n",
              "    <div class=\"colab-df-container\">\n",
              "      <div>\n",
              "<style scoped>\n",
              "    .dataframe tbody tr th:only-of-type {\n",
              "        vertical-align: middle;\n",
              "    }\n",
              "\n",
              "    .dataframe tbody tr th {\n",
              "        vertical-align: top;\n",
              "    }\n",
              "\n",
              "    .dataframe thead th {\n",
              "        text-align: right;\n",
              "    }\n",
              "</style>\n",
              "<table border=\"1\" class=\"dataframe\">\n",
              "  <thead>\n",
              "    <tr style=\"text-align: right;\">\n",
              "      <th></th>\n",
              "      <th>AlcoholDrinking</th>\n",
              "      <th>Race=White</th>\n",
              "      <th>SkinCancer</th>\n",
              "      <th>PhysicalActivity</th>\n",
              "    </tr>\n",
              "    <tr>\n",
              "      <th>HeartDisease</th>\n",
              "      <th></th>\n",
              "      <th></th>\n",
              "      <th></th>\n",
              "      <th></th>\n",
              "    </tr>\n",
              "  </thead>\n",
              "  <tbody>\n",
              "    <tr>\n",
              "      <th>No</th>\n",
              "      <td>20636</td>\n",
              "      <td>222705</td>\n",
              "      <td>24839</td>\n",
              "      <td>230468</td>\n",
              "    </tr>\n",
              "    <tr>\n",
              "      <th>Yes</th>\n",
              "      <td>1141</td>\n",
              "      <td>22507</td>\n",
              "      <td>4980</td>\n",
              "      <td>17489</td>\n",
              "    </tr>\n",
              "  </tbody>\n",
              "</table>\n",
              "</div>\n",
              "      <button class=\"colab-df-convert\" onclick=\"convertToInteractive('df-3e887acb-f0ec-4108-9163-fff7152dc7bd')\"\n",
              "              title=\"Convert this dataframe to an interactive table.\"\n",
              "              style=\"display:none;\">\n",
              "        \n",
              "  <svg xmlns=\"http://www.w3.org/2000/svg\" height=\"24px\"viewBox=\"0 0 24 24\"\n",
              "       width=\"24px\">\n",
              "    <path d=\"M0 0h24v24H0V0z\" fill=\"none\"/>\n",
              "    <path d=\"M18.56 5.44l.94 2.06.94-2.06 2.06-.94-2.06-.94-.94-2.06-.94 2.06-2.06.94zm-11 1L8.5 8.5l.94-2.06 2.06-.94-2.06-.94L8.5 2.5l-.94 2.06-2.06.94zm10 10l.94 2.06.94-2.06 2.06-.94-2.06-.94-.94-2.06-.94 2.06-2.06.94z\"/><path d=\"M17.41 7.96l-1.37-1.37c-.4-.4-.92-.59-1.43-.59-.52 0-1.04.2-1.43.59L10.3 9.45l-7.72 7.72c-.78.78-.78 2.05 0 2.83L4 21.41c.39.39.9.59 1.41.59.51 0 1.02-.2 1.41-.59l7.78-7.78 2.81-2.81c.8-.78.8-2.07 0-2.86zM5.41 20L4 18.59l7.72-7.72 1.47 1.35L5.41 20z\"/>\n",
              "  </svg>\n",
              "      </button>\n",
              "      \n",
              "  <style>\n",
              "    .colab-df-container {\n",
              "      display:flex;\n",
              "      flex-wrap:wrap;\n",
              "      gap: 12px;\n",
              "    }\n",
              "\n",
              "    .colab-df-convert {\n",
              "      background-color: #E8F0FE;\n",
              "      border: none;\n",
              "      border-radius: 50%;\n",
              "      cursor: pointer;\n",
              "      display: none;\n",
              "      fill: #1967D2;\n",
              "      height: 32px;\n",
              "      padding: 0 0 0 0;\n",
              "      width: 32px;\n",
              "    }\n",
              "\n",
              "    .colab-df-convert:hover {\n",
              "      background-color: #E2EBFA;\n",
              "      box-shadow: 0px 1px 2px rgba(60, 64, 67, 0.3), 0px 1px 3px 1px rgba(60, 64, 67, 0.15);\n",
              "      fill: #174EA6;\n",
              "    }\n",
              "\n",
              "    [theme=dark] .colab-df-convert {\n",
              "      background-color: #3B4455;\n",
              "      fill: #D2E3FC;\n",
              "    }\n",
              "\n",
              "    [theme=dark] .colab-df-convert:hover {\n",
              "      background-color: #434B5C;\n",
              "      box-shadow: 0px 1px 3px 1px rgba(0, 0, 0, 0.15);\n",
              "      filter: drop-shadow(0px 1px 2px rgba(0, 0, 0, 0.3));\n",
              "      fill: #FFFFFF;\n",
              "    }\n",
              "  </style>\n",
              "\n",
              "      <script>\n",
              "        const buttonEl =\n",
              "          document.querySelector('#df-3e887acb-f0ec-4108-9163-fff7152dc7bd button.colab-df-convert');\n",
              "        buttonEl.style.display =\n",
              "          google.colab.kernel.accessAllowed ? 'block' : 'none';\n",
              "\n",
              "        async function convertToInteractive(key) {\n",
              "          const element = document.querySelector('#df-3e887acb-f0ec-4108-9163-fff7152dc7bd');\n",
              "          const dataTable =\n",
              "            await google.colab.kernel.invokeFunction('convertToInteractive',\n",
              "                                                     [key], {});\n",
              "          if (!dataTable) return;\n",
              "\n",
              "          const docLinkHtml = 'Like what you see? Visit the ' +\n",
              "            '<a target=\"_blank\" href=https://colab.research.google.com/notebooks/data_table.ipynb>data table notebook</a>'\n",
              "            + ' to learn more about interactive tables.';\n",
              "          element.innerHTML = '';\n",
              "          dataTable['output_type'] = 'display_data';\n",
              "          await google.colab.output.renderOutput(dataTable, element);\n",
              "          const docLink = document.createElement('div');\n",
              "          docLink.innerHTML = docLinkHtml;\n",
              "          element.appendChild(docLink);\n",
              "        }\n",
              "      </script>\n",
              "    </div>\n",
              "  </div>\n",
              "  "
            ]
          },
          "metadata": {},
          "execution_count": 73
        }
      ]
    },
    {
      "cell_type": "code",
      "source": [
        "data_test = data[data['HeartDisease']=='Yes']\n",
        "data_test['AlcoholDrinking'].value_counts(sort=False, normalize=False)"
      ],
      "metadata": {
        "colab": {
          "base_uri": "https://localhost:8080/"
        },
        "id": "nJ71rQR9mTqW",
        "outputId": "9d797cbe-f20f-460a-b1a4-a8efef1e6f20"
      },
      "execution_count": 74,
      "outputs": [
        {
          "output_type": "execute_result",
          "data": {
            "text/plain": [
              "No     26232\n",
              "Yes     1141\n",
              "Name: AlcoholDrinking, dtype: int64"
            ]
          },
          "metadata": {},
          "execution_count": 74
        }
      ]
    },
    {
      "cell_type": "code",
      "source": [
        "ax = dd.plot.bar()\n",
        "ax.set_ylabel(\"numbers\")\n",
        "plt.show()"
      ],
      "metadata": {
        "colab": {
          "base_uri": "https://localhost:8080/",
          "height": 293
        },
        "id": "ALOlwvRgp3ac",
        "outputId": "0cadd23c-cac9-4cff-ab36-dc8a115fd87e"
      },
      "execution_count": 75,
      "outputs": [
        {
          "output_type": "display_data",
          "data": {
            "text/plain": [
              "<Figure size 432x288 with 1 Axes>"
            ],
            "image/png": "[encoded data removed]"
          },
          "metadata": {}
        }
      ]
    },
    {
      "cell_type": "markdown",
      "source": [
        "**AlcoholDrinking、Race、SkinCancer、PhysicalActivity**的影响：\n",
        "- 没有患上心脏病的人酗酒比率更高。\n",
        "- 患上心脏病的人白人占比相对较少。\n",
        "- 患上心脏病的人同时染有皮肤病得占比相对较少，没有患上心脏病的人皮肤病发病率反而较高。\n",
        "- 患上心脏病的人明显运动较少。"
      ],
      "metadata": {
        "id": "jUyPp3bNuEDZ"
      }
    },
    {
      "cell_type": "markdown",
      "source": [
        "## 连续值柱状图"
      ],
      "metadata": {
        "id": "-egYeGwAvuL-"
      }
    },
    {
      "cell_type": "code",
      "source": [
        "import seaborn as sns\n",
        "\n",
        "sns.set_theme(style=\"darkgrid\")\n",
        "f, (ax1, ax2, ax3, ax4) = plt.subplots(4, 1, figsize=(8, 5), sharex=True)\n",
        "\n",
        "sns.histplot(data, x=\"BMI\", hue=\"HeartDisease\", multiple=\"stack\", bins=50, ax=ax1, legend=True, palette=\"rocket\",)\n",
        "sns.histplot(data, x=\"SleepTime\", hue=\"HeartDisease\", multiple=\"stack\", bins=24, ax=ax2, legend=False, palette=\"rocket\",)\n",
        "\n",
        "sns.histplot(data, x=\"PhysicalHealth\", hue=\"HeartDisease\", multiple=\"stack\", bins=30, ax=ax3, legend=False, palette=\"cubehelix\",)\n",
        "sns.histplot(data, x=\"MentalHealth\", hue=\"HeartDisease\", multiple=\"stack\", bins=30, ax=ax4, legend=False, palette=\"cubehelix\",)\n",
        "\n",
        "ax1.set_ylabel(\"BMI\")\n",
        "ax2.set_ylabel(\"SleepTime\")\n",
        "ax3.set_ylabel(\"Physical\")\n",
        "ax4.set_ylabel(\"Mental\")\n",
        "ax4.set_xlabel(\"\")\n",
        "# Finalize the plot\n",
        "sns.despine(bottom=True)\n",
        "plt.setp(f.axes, yticks=[],)\n",
        "plt.tight_layout(h_pad=1)\n",
        "f.suptitle('distribution for continuous property')\n",
        "plt.show()"
      ],
      "metadata": {
        "colab": {
          "base_uri": "https://localhost:8080/",
          "height": 371
        },
        "id": "M5VIiY68_YgO",
        "outputId": "9b0eab88-a6e4-43dc-f268-083ce5aca6dd"
      },
      "execution_count": 76,
      "outputs": [
        {
          "output_type": "display_data",
          "data": {
            "text/plain": [
              "<Figure size 576x360 with 4 Axes>"
            ],
            "image/png": "[encoded data removed]"
          },
          "metadata": {}
        }
      ]
    },
    {
      "cell_type": "code",
      "source": [
        "f, (ax1, ax2, ax3, ax4) = plt.subplots(4, 1, figsize=(8, 5), sharex=True)\n",
        "\n",
        "sns.boxplot(y=\"HeartDisease\", x=\"BMI\", data=data, ax=ax1, orient=\"h\",)\n",
        "sns.boxplot(y=\"HeartDisease\", x=\"SleepTime\", data=data, ax=ax2, orient=\"h\",)\n",
        "sns.boxplot(y=\"HeartDisease\", x=\"PhysicalHealth\", data=data, ax=ax3, orient=\"h\",)\n",
        "sns.boxplot(y=\"HeartDisease\", x=\"MentalHealth\", data=data, ax=ax4, orient=\"h\",)\n",
        "\n",
        "ax1.set_ylabel(\"BMI\")\n",
        "ax2.set_ylabel(\"SleepTime\")\n",
        "ax3.set_ylabel(\"Physical\")\n",
        "ax4.set_ylabel(\"Mental\")\n",
        "ax4.set_xlabel(\"\")\n",
        "ax3.set_xlabel(\"\")\n",
        "ax2.set_xlabel(\"\")\n",
        "ax1.set_xlabel(\"\")\n",
        "\n",
        "# Finalize the plot\n",
        "sns.despine(bottom=True)\n",
        "plt.setp(f.axes, yticks=[],)\n",
        "plt.tight_layout(h_pad=1)\n",
        "f.suptitle('Box')\n",
        "plt.show()"
      ],
      "metadata": {
        "colab": {
          "base_uri": "https://localhost:8080/",
          "height": 371
        },
        "id": "PHMIFWLx6qqn",
        "outputId": "4aff73a6-6e45-4d28-c36a-bd6ba7039ed5"
      },
      "execution_count": 77,
      "outputs": [
        {
          "output_type": "display_data",
          "data": {
            "text/plain": [
              "<Figure size 576x360 with 4 Axes>"
            ],
            "image/png": "[encoded data removed]"
          },
          "metadata": {}
        }
      ]
    },
    {
      "cell_type": "markdown",
      "source": [
        "## 数据处理"
      ],
      "metadata": {
        "id": "IbvQ05m2Kz4k"
      }
    },
    {
      "cell_type": "code",
      "source": [
        "d_train = data.iloc[0:data.shape[0]//10*3, [0,1,5,6,14]]\n",
        "d_train['HeartDisease'] = d_train['HeartDisease'].apply(lambda x: 1 if x=='Yes' else 0)\n",
        "d_test = data.iloc[-data.shape[0]//10:-1, [0,1,5,6,14]]\n",
        "d_test['HeartDisease'] = d_test['HeartDisease'].apply(lambda x: 1 if x=='Yes' else 0)\n",
        "d_train.head()"
      ],
      "metadata": {
        "colab": {
          "base_uri": "https://localhost:8080/",
          "height": 206
        },
        "id": "OxXSytLPWPc1",
        "outputId": "f2bcaf82-d776-451d-dd0c-37bcb20ee21a"
      },
      "execution_count": 78,
      "outputs": [
        {
          "output_type": "execute_result",
          "data": {
            "text/plain": [
              "   HeartDisease    BMI  PhysicalHealth  MentalHealth  SleepTime\n",
              "0             0  16.60             3.0          30.0        5.0\n",
              "1             0  20.34             0.0           0.0        7.0\n",
              "2             0  26.58            20.0          30.0        8.0\n",
              "3             0  24.21             0.0           0.0        6.0\n",
              "4             0  23.71            28.0           0.0        8.0"
            ],
            "text/html": [
              "\n",
              "  <div id=\"df-4dc87cdc-123b-4ddd-bf08-011b1f4b0a4e\">\n",
              "    <div class=\"colab-df-container\">\n",
              "      <div>\n",
              "<style scoped>\n",
              "    .dataframe tbody tr th:only-of-type {\n",
              "        vertical-align: middle;\n",
              "    }\n",
              "\n",
              "    .dataframe tbody tr th {\n",
              "        vertical-align: top;\n",
              "    }\n",
              "\n",
              "    .dataframe thead th {\n",
              "        text-align: right;\n",
              "    }\n",
              "</style>\n",
              "<table border=\"1\" class=\"dataframe\">\n",
              "  <thead>\n",
              "    <tr style=\"text-align: right;\">\n",
              "      <th></th>\n",
              "      <th>HeartDisease</th>\n",
              "      <th>BMI</th>\n",
              "      <th>PhysicalHealth</th>\n",
              "      <th>MentalHealth</th>\n",
              "      <th>SleepTime</th>\n",
              "    </tr>\n",
              "  </thead>\n",
              "  <tbody>\n",
              "    <tr>\n",
              "      <th>0</th>\n",
              "      <td>0</td>\n",
              "      <td>16.60</td>\n",
              "      <td>3.0</td>\n",
              "      <td>30.0</td>\n",
              "      <td>5.0</td>\n",
              "    </tr>\n",
              "    <tr>\n",
              "      <th>1</th>\n",
              "      <td>0</td>\n",
              "      <td>20.34</td>\n",
              "      <td>0.0</td>\n",
              "      <td>0.0</td>\n",
              "      <td>7.0</td>\n",
              "    </tr>\n",
              "    <tr>\n",
              "      <th>2</th>\n",
              "      <td>0</td>\n",
              "      <td>26.58</td>\n",
              "      <td>20.0</td>\n",
              "      <td>30.0</td>\n",
              "      <td>8.0</td>\n",
              "    </tr>\n",
              "    <tr>\n",
              "      <th>3</th>\n",
              "      <td>0</td>\n",
              "      <td>24.21</td>\n",
              "      <td>0.0</td>\n",
              "      <td>0.0</td>\n",
              "      <td>6.0</td>\n",
              "    </tr>\n",
              "    <tr>\n",
              "      <th>4</th>\n",
              "      <td>0</td>\n",
              "      <td>23.71</td>\n",
              "      <td>28.0</td>\n",
              "      <td>0.0</td>\n",
              "      <td>8.0</td>\n",
              "    </tr>\n",
              "  </tbody>\n",
              "</table>\n",
              "</div>\n",
              "      <button class=\"colab-df-convert\" onclick=\"convertToInteractive('df-4dc87cdc-123b-4ddd-bf08-011b1f4b0a4e')\"\n",
              "              title=\"Convert this dataframe to an interactive table.\"\n",
              "              style=\"display:none;\">\n",
              "        \n",
              "  <svg xmlns=\"http://www.w3.org/2000/svg\" height=\"24px\"viewBox=\"0 0 24 24\"\n",
              "       width=\"24px\">\n",
              "    <path d=\"M0 0h24v24H0V0z\" fill=\"none\"/>\n",
              "    <path d=\"M18.56 5.44l.94 2.06.94-2.06 2.06-.94-2.06-.94-.94-2.06-.94 2.06-2.06.94zm-11 1L8.5 8.5l.94-2.06 2.06-.94-2.06-.94L8.5 2.5l-.94 2.06-2.06.94zm10 10l.94 2.06.94-2.06 2.06-.94-2.06-.94-.94-2.06-.94 2.06-2.06.94z\"/><path d=\"M17.41 7.96l-1.37-1.37c-.4-.4-.92-.59-1.43-.59-.52 0-1.04.2-1.43.59L10.3 9.45l-7.72 7.72c-.78.78-.78 2.05 0 2.83L4 21.41c.39.39.9.59 1.41.59.51 0 1.02-.2 1.41-.59l7.78-7.78 2.81-2.81c.8-.78.8-2.07 0-2.86zM5.41 20L4 18.59l7.72-7.72 1.47 1.35L5.41 20z\"/>\n",
              "  </svg>\n",
              "      </button>\n",
              "      \n",
              "  <style>\n",
              "    .colab-df-container {\n",
              "      display:flex;\n",
              "      flex-wrap:wrap;\n",
              "      gap: 12px;\n",
              "    }\n",
              "\n",
              "    .colab-df-convert {\n",
              "      background-color: #E8F0FE;\n",
              "      border: none;\n",
              "      border-radius: 50%;\n",
              "      cursor: pointer;\n",
              "      display: none;\n",
              "      fill: #1967D2;\n",
              "      height: 32px;\n",
              "      padding: 0 0 0 0;\n",
              "      width: 32px;\n",
              "    }\n",
              "\n",
              "    .colab-df-convert:hover {\n",
              "      background-color: #E2EBFA;\n",
              "      box-shadow: 0px 1px 2px rgba(60, 64, 67, 0.3), 0px 1px 3px 1px rgba(60, 64, 67, 0.15);\n",
              "      fill: #174EA6;\n",
              "    }\n",
              "\n",
              "    [theme=dark] .colab-df-convert {\n",
              "      background-color: #3B4455;\n",
              "      fill: #D2E3FC;\n",
              "    }\n",
              "\n",
              "    [theme=dark] .colab-df-convert:hover {\n",
              "      background-color: #434B5C;\n",
              "      box-shadow: 0px 1px 3px 1px rgba(0, 0, 0, 0.15);\n",
              "      filter: drop-shadow(0px 1px 2px rgba(0, 0, 0, 0.3));\n",
              "      fill: #FFFFFF;\n",
              "    }\n",
              "  </style>\n",
              "\n",
              "      <script>\n",
              "        const buttonEl =\n",
              "          document.querySelector('#df-4dc87cdc-123b-4ddd-bf08-011b1f4b0a4e button.colab-df-convert');\n",
              "        buttonEl.style.display =\n",
              "          google.colab.kernel.accessAllowed ? 'block' : 'none';\n",
              "\n",
              "        async function convertToInteractive(key) {\n",
              "          const element = document.querySelector('#df-4dc87cdc-123b-4ddd-bf08-011b1f4b0a4e');\n",
              "          const dataTable =\n",
              "            await google.colab.kernel.invokeFunction('convertToInteractive',\n",
              "                                                     [key], {});\n",
              "          if (!dataTable) return;\n",
              "\n",
              "          const docLinkHtml = 'Like what you see? Visit the ' +\n",
              "            '<a target=\"_blank\" href=https://colab.research.google.com/notebooks/data_table.ipynb>data table notebook</a>'\n",
              "            + ' to learn more about interactive tables.';\n",
              "          element.innerHTML = '';\n",
              "          dataTable['output_type'] = 'display_data';\n",
              "          await google.colab.output.renderOutput(dataTable, element);\n",
              "          const docLink = document.createElement('div');\n",
              "          docLink.innerHTML = docLinkHtml;\n",
              "          element.appendChild(docLink);\n",
              "        }\n",
              "      </script>\n",
              "    </div>\n",
              "  </div>\n",
              "  "
            ]
          },
          "metadata": {},
          "execution_count": 78
        }
      ]
    },
    {
      "cell_type": "code",
      "source": [
        "d_train = data.iloc[0:data.shape[0]//10*3, [0,1,5,6,14]]\n",
        "d_train['HeartDisease'] = d_train['HeartDisease'].apply(lambda x: 1 if x=='Yes' else 0)\n",
        "d_test = data.iloc[-data.shape[0]//10:-1, [0,1,5,6,14]]\n",
        "d_test['HeartDisease'] = d_test['HeartDisease'].apply(lambda x: 1 if x=='Yes' else 0)\n",
        "d_train.head()"
      ],
      "metadata": {
        "colab": {
          "base_uri": "https://localhost:8080/",
          "height": 206
        },
        "id": "y0tSZXw5TtyJ",
        "outputId": "d7b161bf-f74d-49f9-c2dc-2fb6f70c8b55"
      },
      "execution_count": 79,
      "outputs": [
        {
          "output_type": "execute_result",
          "data": {
            "text/plain": [
              "   HeartDisease    BMI  PhysicalHealth  MentalHealth  SleepTime\n",
              "0             0  16.60             3.0          30.0        5.0\n",
              "1             0  20.34             0.0           0.0        7.0\n",
              "2             0  26.58            20.0          30.0        8.0\n",
              "3             0  24.21             0.0           0.0        6.0\n",
              "4             0  23.71            28.0           0.0        8.0"
            ],
            "text/html": [
              "\n",
              "  <div id=\"df-0f67f964-ebf8-487e-b846-a3b39d49b8fc\">\n",
              "    <div class=\"colab-df-container\">\n",
              "      <div>\n",
              "<style scoped>\n",
              "    .dataframe tbody tr th:only-of-type {\n",
              "        vertical-align: middle;\n",
              "    }\n",
              "\n",
              "    .dataframe tbody tr th {\n",
              "        vertical-align: top;\n",
              "    }\n",
              "\n",
              "    .dataframe thead th {\n",
              "        text-align: right;\n",
              "    }\n",
              "</style>\n",
              "<table border=\"1\" class=\"dataframe\">\n",
              "  <thead>\n",
              "    <tr style=\"text-align: right;\">\n",
              "      <th></th>\n",
              "      <th>HeartDisease</th>\n",
              "      <th>BMI</th>\n",
              "      <th>PhysicalHealth</th>\n",
              "      <th>MentalHealth</th>\n",
              "      <th>SleepTime</th>\n",
              "    </tr>\n",
              "  </thead>\n",
              "  <tbody>\n",
              "    <tr>\n",
              "      <th>0</th>\n",
              "      <td>0</td>\n",
              "      <td>16.60</td>\n",
              "      <td>3.0</td>\n",
              "      <td>30.0</td>\n",
              "      <td>5.0</td>\n",
              "    </tr>\n",
              "    <tr>\n",
              "      <th>1</th>\n",
              "      <td>0</td>\n",
              "      <td>20.34</td>\n",
              "      <td>0.0</td>\n",
              "      <td>0.0</td>\n",
              "      <td>7.0</td>\n",
              "    </tr>\n",
              "    <tr>\n",
              "      <th>2</th>\n",
              "      <td>0</td>\n",
              "      <td>26.58</td>\n",
              "      <td>20.0</td>\n",
              "      <td>30.0</td>\n",
              "      <td>8.0</td>\n",
              "    </tr>\n",
              "    <tr>\n",
              "      <th>3</th>\n",
              "      <td>0</td>\n",
              "      <td>24.21</td>\n",
              "      <td>0.0</td>\n",
              "      <td>0.0</td>\n",
              "      <td>6.0</td>\n",
              "    </tr>\n",
              "    <tr>\n",
              "      <th>4</th>\n",
              "      <td>0</td>\n",
              "      <td>23.71</td>\n",
              "      <td>28.0</td>\n",
              "      <td>0.0</td>\n",
              "      <td>8.0</td>\n",
              "    </tr>\n",
              "  </tbody>\n",
              "</table>\n",
              "</div>\n",
              "      <button class=\"colab-df-convert\" onclick=\"convertToInteractive('df-0f67f964-ebf8-487e-b846-a3b39d49b8fc')\"\n",
              "              title=\"Convert this dataframe to an interactive table.\"\n",
              "              style=\"display:none;\">\n",
              "        \n",
              "  <svg xmlns=\"http://www.w3.org/2000/svg\" height=\"24px\"viewBox=\"0 0 24 24\"\n",
              "       width=\"24px\">\n",
              "    <path d=\"M0 0h24v24H0V0z\" fill=\"none\"/>\n",
              "    <path d=\"M18.56 5.44l.94 2.06.94-2.06 2.06-.94-2.06-.94-.94-2.06-.94 2.06-2.06.94zm-11 1L8.5 8.5l.94-2.06 2.06-.94-2.06-.94L8.5 2.5l-.94 2.06-2.06.94zm10 10l.94 2.06.94-2.06 2.06-.94-2.06-.94-.94-2.06-.94 2.06-2.06.94z\"/><path d=\"M17.41 7.96l-1.37-1.37c-.4-.4-.92-.59-1.43-.59-.52 0-1.04.2-1.43.59L10.3 9.45l-7.72 7.72c-.78.78-.78 2.05 0 2.83L4 21.41c.39.39.9.59 1.41.59.51 0 1.02-.2 1.41-.59l7.78-7.78 2.81-2.81c.8-.78.8-2.07 0-2.86zM5.41 20L4 18.59l7.72-7.72 1.47 1.35L5.41 20z\"/>\n",
              "  </svg>\n",
              "      </button>\n",
              "      \n",
              "  <style>\n",
              "    .colab-df-container {\n",
              "      display:flex;\n",
              "      flex-wrap:wrap;\n",
              "      gap: 12px;\n",
              "    }\n",
              "\n",
              "    .colab-df-convert {\n",
              "      background-color: #E8F0FE;\n",
              "      border: none;\n",
              "      border-radius: 50%;\n",
              "      cursor: pointer;\n",
              "      display: none;\n",
              "      fill: #1967D2;\n",
              "      height: 32px;\n",
              "      padding: 0 0 0 0;\n",
              "      width: 32px;\n",
              "    }\n",
              "\n",
              "    .colab-df-convert:hover {\n",
              "      background-color: #E2EBFA;\n",
              "      box-shadow: 0px 1px 2px rgba(60, 64, 67, 0.3), 0px 1px 3px 1px rgba(60, 64, 67, 0.15);\n",
              "      fill: #174EA6;\n",
              "    }\n",
              "\n",
              "    [theme=dark] .colab-df-convert {\n",
              "      background-color: #3B4455;\n",
              "      fill: #D2E3FC;\n",
              "    }\n",
              "\n",
              "    [theme=dark] .colab-df-convert:hover {\n",
              "      background-color: #434B5C;\n",
              "      box-shadow: 0px 1px 3px 1px rgba(0, 0, 0, 0.15);\n",
              "      filter: drop-shadow(0px 1px 2px rgba(0, 0, 0, 0.3));\n",
              "      fill: #FFFFFF;\n",
              "    }\n",
              "  </style>\n",
              "\n",
              "      <script>\n",
              "        const buttonEl =\n",
              "          document.querySelector('#df-0f67f964-ebf8-487e-b846-a3b39d49b8fc button.colab-df-convert');\n",
              "        buttonEl.style.display =\n",
              "          google.colab.kernel.accessAllowed ? 'block' : 'none';\n",
              "\n",
              "        async function convertToInteractive(key) {\n",
              "          const element = document.querySelector('#df-0f67f964-ebf8-487e-b846-a3b39d49b8fc');\n",
              "          const dataTable =\n",
              "            await google.colab.kernel.invokeFunction('convertToInteractive',\n",
              "                                                     [key], {});\n",
              "          if (!dataTable) return;\n",
              "\n",
              "          const docLinkHtml = 'Like what you see? Visit the ' +\n",
              "            '<a target=\"_blank\" href=https://colab.research.google.com/notebooks/data_table.ipynb>data table notebook</a>'\n",
              "            + ' to learn more about interactive tables.';\n",
              "          element.innerHTML = '';\n",
              "          dataTable['output_type'] = 'display_data';\n",
              "          await google.colab.output.renderOutput(dataTable, element);\n",
              "          const docLink = document.createElement('div');\n",
              "          docLink.innerHTML = docLinkHtml;\n",
              "          element.appendChild(docLink);\n",
              "        }\n",
              "      </script>\n",
              "    </div>\n",
              "  </div>\n",
              "  "
            ]
          },
          "metadata": {},
          "execution_count": 79
        }
      ]
    },
    {
      "cell_type": "markdown",
      "source": [
        "## SVM"
      ],
      "metadata": {
        "id": "_ohdPb2GOBVe"
      }
    },
    {
      "cell_type": "code",
      "source": [
        "from sklearn.pipeline import make_pipeline\n",
        "from sklearn.preprocessing import StandardScaler\n",
        "from sklearn.svm import SVC\n",
        "\n",
        "clf = make_pipeline(StandardScaler(), SVC(gamma='auto', kernel='linear'))\n",
        "clf.fit(d_train.iloc[:, 1:], d_train['HeartDisease'])\n",
        "score = clf.score(d_test.iloc[:, 1:], d_test['HeartDisease'])\n",
        "print(\"Score of SVC : \", score)"
      ],
      "metadata": {
        "colab": {
          "base_uri": "https://localhost:8080/"
        },
        "id": "KnCDgk5UdDR1",
        "outputId": "4c2b1c03-a0a3-4909-8753-c5756057ced6"
      },
      "execution_count": 80,
      "outputs": [
        {
          "output_type": "stream",
          "name": "stdout",
          "text": [
            "Score of SVC :  0.9136620907470527\n"
          ]
        }
      ]
    },
    {
      "cell_type": "markdown",
      "source": [
        "## Naive"
      ],
      "metadata": {
        "id": "-ENehSyVO_b1"
      }
    },
    {
      "cell_type": "code",
      "source": [
        "from sklearn.naive_bayes import GaussianNB\n",
        "clf = GaussianNB()\n",
        "clf.fit(d_train.iloc[:, 1:], d_train['HeartDisease'])\n",
        "score = clf.score(d_test.iloc[:, 1:], d_test['HeartDisease'])\n",
        "print(\"Score of Naive : \", score)"
      ],
      "metadata": {
        "colab": {
          "base_uri": "https://localhost:8080/"
        },
        "id": "xqQSAUguO7iM",
        "outputId": "adcd7892-d6aa-4265-ce3a-6eb2d5a50cc1"
      },
      "execution_count": 81,
      "outputs": [
        {
          "output_type": "stream",
          "name": "stdout",
          "text": [
            "Score of Naive :  0.8688827042746803\n"
          ]
        }
      ]
    },
    {
      "cell_type": "markdown",
      "source": [
        "## DecisionTreeClassifier"
      ],
      "metadata": {
        "id": "8-INWNp8PYU_"
      }
    },
    {
      "cell_type": "code",
      "source": [
        "from sklearn.model_selection import cross_val_score\n",
        "from sklearn.tree import DecisionTreeClassifier\n",
        "clf = DecisionTreeClassifier(random_state=0)\n",
        "clf.fit(d_train.iloc[:, 1:], d_train['HeartDisease'])\n",
        "score = clf.score(d_test.iloc[:, 1:], d_test['HeartDisease'])\n",
        "print(\"Score of DecisionTreeClassifier : \", score)"
      ],
      "metadata": {
        "colab": {
          "base_uri": "https://localhost:8080/"
        },
        "id": "rmEEod6pP3B8",
        "outputId": "f528864d-29ed-40ce-c9bd-7ac1a21db229"
      },
      "execution_count": 82,
      "outputs": [
        {
          "output_type": "stream",
          "name": "stdout",
          "text": [
            "Score of DecisionTreeClassifier :  0.8798273867225367\n"
          ]
        }
      ]
    },
    {
      "cell_type": "markdown",
      "source": [
        "**SVM 和 Naive 和 Dicision tree 的简单对比**\n",
        "- SVM 的score最大，认为在简单参数下，其分类器模型最优。"
      ],
      "metadata": {
        "id": "_W1F13G7cEMj"
      }
    },
    {
      "cell_type": "markdown",
      "source": [
        "## Logistic Regression"
      ],
      "metadata": {
        "id": "haGx6oyqQN_f"
      }
    },
    {
      "cell_type": "code",
      "source": [
        "from sklearn.linear_model import LogisticRegression\n",
        " \n",
        "lr = make_pipeline(StandardScaler(), LogisticRegression())\n",
        "lr.fit(d_train.iloc[:, 1:], d_train['HeartDisease'])\n",
        "score = lr.score(d_test.iloc[:, 1:], d_test['HeartDisease'])\n",
        "print(\"Score of Logistic Regression : \",score)"
      ],
      "metadata": {
        "colab": {
          "base_uri": "https://localhost:8080/"
        },
        "id": "HNn9HC3nHUvo",
        "outputId": "a1426682-338e-4d29-ff40-44c378b970ea"
      },
      "execution_count": 83,
      "outputs": [
        {
          "output_type": "stream",
          "name": "stdout",
          "text": [
            "Score of Logistic Regression :  0.9136620907470527\n"
          ]
        }
      ]
    },
    {
      "cell_type": "markdown",
      "source": [
        "**前三者和 logistic regression 的简单对比**\n",
        "- SVM 与 logistic regression 的 score 一致，认为在简单参数下，两种分类器没有差别。\n",
        "- **没有足够证据**，表明 logistic regression 更符合这个问题。"
      ],
      "metadata": {
        "id": "iSVqKG17cgQb"
      }
    },
    {
      "cell_type": "markdown",
      "source": [
        "## Use ALL Data"
      ],
      "metadata": {
        "id": "cO4kOxIwVD5J"
      }
    },
    {
      "cell_type": "code",
      "source": [
        "# Converting Gender type to Integers\n",
        "data.iloc[:,8].replace(\"Female\",1,inplace=True)\n",
        "data.iloc[:,8].replace(\"Male\",0,inplace=True)\n",
        "\n",
        "# Categorizing Age values\n",
        "data.iloc[:,9].replace(\"18-24\",1,inplace=True)\n",
        "data.iloc[:,9].replace(\"25-29\",2,inplace=True)\n",
        "data.iloc[:,9].replace(\"30-34\",3,inplace=True)\n",
        "data.iloc[:,9].replace(\"35-39\",4,inplace=True)\n",
        "data.iloc[:,9].replace(\"40-44\",5,inplace=True)\n",
        "data.iloc[:,9].replace(\"45-49\",6,inplace=True)\n",
        "data.iloc[:,9].replace(\"50-54\",7,inplace=True)\n",
        "data.iloc[:,9].replace(\"55-59\",8,inplace=True)\n",
        "data.iloc[:,9].replace(\"60-64\",9,inplace=True)\n",
        "data.iloc[:,9].replace(\"65-69\",10,inplace=True)\n",
        "data.iloc[:,9].replace(\"70-74\",11,inplace=True)\n",
        "data.iloc[:,9].replace(\"75-79\",12,inplace=True)\n",
        "data.iloc[:,9].replace(\"80 or older\",13,inplace=True)\n",
        "\n",
        "# Categorize Race of the person \n",
        "data.iloc[:,10].replace(\"White\",1,inplace=True)\n",
        "data.iloc[:,10].replace(\"Black\",2,inplace=True)\n",
        "data.iloc[:,10].replace(\"Asian\",3,inplace=True)\n",
        "data.iloc[:,10].replace(\"American Indian/Alaskan Native\",4,inplace=True)\n",
        "data.iloc[:,10].replace(\"Other\",5,inplace=True)\n",
        "data.iloc[:,10].replace(\"Hispanic\",6,inplace=True)\n",
        "\n",
        "# Catgorize if the person is diabetic or not \n",
        "data.iloc[:,11].replace(\"Yes\",4,inplace=True)\n",
        "data.iloc[:,11].replace(\"Yes (during pregnancy)\",3,inplace=True)\n",
        "data.iloc[:,11].replace(\"No, borderline diabetes\",2,inplace=True)\n",
        "data.iloc[:,11].replace(\"No\",1,inplace=True)\n",
        "\n",
        "# Categorize the Health of the person into integers values\n",
        "data.iloc[:,13].replace(\"Excellent\",4,inplace=True)\n",
        "data.iloc[:,13].replace(\"Very good\",3,inplace=True)\n",
        "data.iloc[:,13].replace(\"Good\",2,inplace=True)\n",
        "data.iloc[:,13].replace(\"Fair\",1,inplace=True)\n",
        "data.iloc[:,13].replace(\"Poor\",0,inplace=True)\n",
        "\n",
        "# Set final label of having heart disease or not into integers\n",
        "data.replace(\"Yes\",1,inplace=True)\n",
        "data.replace(\"No\",0,inplace=True)"
      ],
      "metadata": {
        "id": "GA5LmsFrVDAM"
      },
      "execution_count": 84,
      "outputs": []
    },
    {
      "cell_type": "code",
      "source": [
        "d_train = data.iloc[0:data.shape[0]//10*3, :]\n",
        "d_test = data.iloc[-data.shape[0]//10:-1, :]"
      ],
      "metadata": {
        "id": "3MsrfCjXXHb0"
      },
      "execution_count": 85,
      "outputs": []
    },
    {
      "cell_type": "code",
      "source": [
        "from sklearn.linear_model import LogisticRegression\n",
        " \n",
        "lr = make_pipeline(StandardScaler(), LogisticRegression())\n",
        "lr.fit(d_train.iloc[:, 1:], d_train['HeartDisease'])\n",
        "score = lr.score(d_test.iloc[:, 1:], d_test['HeartDisease'])\n",
        "print(\"Score of Logistic Regression With all : \",score)"
      ],
      "metadata": {
        "colab": {
          "base_uri": "https://localhost:8080/"
        },
        "id": "g37oV5m5XRIQ",
        "outputId": "d9f3a7a2-c7a0-4541-ab51-bb1cfc6e111f"
      },
      "execution_count": 86,
      "outputs": [
        {
          "output_type": "stream",
          "name": "stdout",
          "text": [
            "Score of Logistic Regression With all :  0.9144125832577629\n"
          ]
        }
      ]
    }
  ]
}